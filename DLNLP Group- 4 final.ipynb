{
 "cells": [
  {
   "cell_type": "markdown",
   "metadata": {},
   "source": [
    "# GROUP 4"
   ]
  },
  {
   "cell_type": "markdown",
   "metadata": {},
   "source": [
    "Dataset link- https://www.kaggle.com/c/nlp-getting-started/overview"
   ]
  },
  {
   "cell_type": "markdown",
   "metadata": {},
   "source": [
    "### AIM- To predicting whether a given tweet is about a real disaster or not. If so, predict a 1. If not, predict a 0."
   ]
  },
  {
   "cell_type": "markdown",
   "metadata": {},
   "source": [
    "### Columns\n",
    "Id - a unique identifier for each tweet\n",
    "\n",
    "Text - the text of the tweet\n",
    "\n",
    "Location - the location the tweet was sent from\n",
    "\n",
    "Keyword - a particular keyword from the tweet\n",
    "\n",
    "Target - this denotes whether a tweet is about a real disaster or not"
   ]
  },
  {
   "cell_type": "code",
   "execution_count": 35,
   "metadata": {
    "execution": {
     "iopub.execute_input": "2021-10-04T09:32:36.077968Z",
     "iopub.status.busy": "2021-10-04T09:32:36.073917Z",
     "iopub.status.idle": "2021-10-04T09:32:37.551921Z",
     "shell.execute_reply": "2021-10-04T09:32:37.552425Z",
     "shell.execute_reply.started": "2021-10-04T09:29:40.953611Z"
    },
    "papermill": {
     "duration": 1.500142,
     "end_time": "2021-10-04T09:32:37.552629",
     "exception": false,
     "start_time": "2021-10-04T09:32:36.052487",
     "status": "completed"
    },
    "tags": []
   },
   "outputs": [
    {
     "name": "stderr",
     "output_type": "stream",
     "text": [
      "[nltk_data] Downloading package stopwords to\n",
      "[nltk_data]     C:\\Users\\Merlin\\AppData\\Roaming\\nltk_data...\n",
      "[nltk_data]   Package stopwords is already up-to-date!\n"
     ]
    },
    {
     "data": {
      "text/plain": [
       "True"
      ]
     },
     "execution_count": 35,
     "metadata": {},
     "output_type": "execute_result"
    }
   ],
   "source": [
    "import pandas as pd \n",
    "import matplotlib.pyplot as plt\n",
    "import seaborn as sns\n",
    "import numpy as np \n",
    "from sklearn.model_selection import train_test_split\n",
    "from nltk.corpus import stopwords\n",
    "from nltk.tokenize import RegexpTokenizer\n",
    "from nltk.stem.porter import PorterStemmer\n",
    "from sklearn.naive_bayes import MultinomialNB, BernoulliNB\n",
    "from sklearn.pipeline import Pipeline\n",
    "from sklearn.feature_extraction.text import TfidfVectorizer\n",
    "from sklearn.feature_extraction.text import CountVectorizer\n",
    "import nltk\n",
    "nltk.download('stopwords')"
   ]
  },
  {
   "cell_type": "code",
   "execution_count": 36,
   "metadata": {
    "execution": {
     "iopub.execute_input": "2021-10-04T09:32:37.594907Z",
     "iopub.status.busy": "2021-10-04T09:32:37.593942Z",
     "iopub.status.idle": "2021-10-04T09:32:37.670806Z",
     "shell.execute_reply": "2021-10-04T09:32:37.671324Z",
     "shell.execute_reply.started": "2021-10-04T09:29:42.646527Z"
    },
    "papermill": {
     "duration": 0.100129,
     "end_time": "2021-10-04T09:32:37.671509",
     "exception": false,
     "start_time": "2021-10-04T09:32:37.571380",
     "status": "completed"
    },
    "tags": []
   },
   "outputs": [],
   "source": [
    "train_data = pd.read_csv(r\"C:\\Users\\Merlin\\Downloads\\train.csv\")"
   ]
  },
  {
   "cell_type": "code",
   "execution_count": 37,
   "metadata": {
    "execution": {
     "iopub.execute_input": "2021-10-04T09:32:37.713299Z",
     "iopub.status.busy": "2021-10-04T09:32:37.712331Z",
     "iopub.status.idle": "2021-10-04T09:32:37.732524Z",
     "shell.execute_reply": "2021-10-04T09:32:37.731999Z",
     "shell.execute_reply.started": "2021-10-04T09:29:42.737059Z"
    },
    "papermill": {
     "duration": 0.042252,
     "end_time": "2021-10-04T09:32:37.732676",
     "exception": false,
     "start_time": "2021-10-04T09:32:37.690424",
     "status": "completed"
    },
    "tags": []
   },
   "outputs": [
    {
     "data": {
      "text/html": [
       "<div>\n",
       "<style scoped>\n",
       "    .dataframe tbody tr th:only-of-type {\n",
       "        vertical-align: middle;\n",
       "    }\n",
       "\n",
       "    .dataframe tbody tr th {\n",
       "        vertical-align: top;\n",
       "    }\n",
       "\n",
       "    .dataframe thead th {\n",
       "        text-align: right;\n",
       "    }\n",
       "</style>\n",
       "<table border=\"1\" class=\"dataframe\">\n",
       "  <thead>\n",
       "    <tr style=\"text-align: right;\">\n",
       "      <th></th>\n",
       "      <th>id</th>\n",
       "      <th>keyword</th>\n",
       "      <th>location</th>\n",
       "      <th>text</th>\n",
       "      <th>target</th>\n",
       "    </tr>\n",
       "  </thead>\n",
       "  <tbody>\n",
       "    <tr>\n",
       "      <th>0</th>\n",
       "      <td>1</td>\n",
       "      <td>NaN</td>\n",
       "      <td>NaN</td>\n",
       "      <td>Our Deeds are the Reason of this #earthquake M...</td>\n",
       "      <td>1</td>\n",
       "    </tr>\n",
       "    <tr>\n",
       "      <th>1</th>\n",
       "      <td>4</td>\n",
       "      <td>NaN</td>\n",
       "      <td>NaN</td>\n",
       "      <td>Forest fire near La Ronge Sask. Canada</td>\n",
       "      <td>1</td>\n",
       "    </tr>\n",
       "    <tr>\n",
       "      <th>2</th>\n",
       "      <td>5</td>\n",
       "      <td>NaN</td>\n",
       "      <td>NaN</td>\n",
       "      <td>All residents asked to 'shelter in place' are ...</td>\n",
       "      <td>1</td>\n",
       "    </tr>\n",
       "    <tr>\n",
       "      <th>3</th>\n",
       "      <td>6</td>\n",
       "      <td>NaN</td>\n",
       "      <td>NaN</td>\n",
       "      <td>13,000 people receive #wildfires evacuation or...</td>\n",
       "      <td>1</td>\n",
       "    </tr>\n",
       "    <tr>\n",
       "      <th>4</th>\n",
       "      <td>7</td>\n",
       "      <td>NaN</td>\n",
       "      <td>NaN</td>\n",
       "      <td>Just got sent this photo from Ruby #Alaska as ...</td>\n",
       "      <td>1</td>\n",
       "    </tr>\n",
       "  </tbody>\n",
       "</table>\n",
       "</div>"
      ],
      "text/plain": [
       "   id keyword location                                               text  \\\n",
       "0   1     NaN      NaN  Our Deeds are the Reason of this #earthquake M...   \n",
       "1   4     NaN      NaN             Forest fire near La Ronge Sask. Canada   \n",
       "2   5     NaN      NaN  All residents asked to 'shelter in place' are ...   \n",
       "3   6     NaN      NaN  13,000 people receive #wildfires evacuation or...   \n",
       "4   7     NaN      NaN  Just got sent this photo from Ruby #Alaska as ...   \n",
       "\n",
       "   target  \n",
       "0       1  \n",
       "1       1  \n",
       "2       1  \n",
       "3       1  \n",
       "4       1  "
      ]
     },
     "execution_count": 37,
     "metadata": {},
     "output_type": "execute_result"
    }
   ],
   "source": [
    "train_data.head()"
   ]
  },
  {
   "cell_type": "code",
   "execution_count": 38,
   "metadata": {},
   "outputs": [],
   "source": [
    "train_data=train_data.dropna()"
   ]
  },
  {
   "cell_type": "code",
   "execution_count": 39,
   "metadata": {
    "execution": {
     "iopub.execute_input": "2021-10-04T09:32:37.775261Z",
     "iopub.status.busy": "2021-10-04T09:32:37.774308Z",
     "iopub.status.idle": "2021-10-04T09:32:37.784597Z",
     "shell.execute_reply": "2021-10-04T09:32:37.783963Z",
     "shell.execute_reply.started": "2021-10-04T09:29:42.767288Z"
    },
    "papermill": {
     "duration": 0.032808,
     "end_time": "2021-10-04T09:32:37.784749",
     "exception": false,
     "start_time": "2021-10-04T09:32:37.751941",
     "status": "completed"
    },
    "tags": []
   },
   "outputs": [
    {
     "data": {
      "text/plain": [
       "(array([0, 1], dtype=int64), array([2884, 2196], dtype=int64))"
      ]
     },
     "execution_count": 39,
     "metadata": {},
     "output_type": "execute_result"
    }
   ],
   "source": [
    "# Checking target column \n",
    "np.unique(train_data.target, return_counts=True)"
   ]
  },
  {
   "cell_type": "code",
   "execution_count": 40,
   "metadata": {},
   "outputs": [
    {
     "data": {
      "text/plain": [
       "(5080, 5)"
      ]
     },
     "execution_count": 40,
     "metadata": {},
     "output_type": "execute_result"
    }
   ],
   "source": [
    "train_data.shape"
   ]
  },
  {
   "cell_type": "markdown",
   "metadata": {},
   "source": [
    "### Visualizing data distribution"
   ]
  },
  {
   "cell_type": "code",
   "execution_count": 41,
   "metadata": {
    "execution": {
     "iopub.execute_input": "2021-10-04T09:32:37.836478Z",
     "iopub.status.busy": "2021-10-04T09:32:37.835433Z",
     "iopub.status.idle": "2021-10-04T09:32:38.144706Z",
     "shell.execute_reply": "2021-10-04T09:32:38.144182Z",
     "shell.execute_reply.started": "2021-10-04T09:29:42.780519Z"
    },
    "papermill": {
     "duration": 0.340188,
     "end_time": "2021-10-04T09:32:38.144885",
     "exception": false,
     "start_time": "2021-10-04T09:32:37.804697",
     "status": "completed"
    },
    "tags": []
   },
   "outputs": [
    {
     "data": {
      "image/png": "[encoded data removed]",
      "text/plain": [
       "<Figure size 432x288 with 1 Axes>"
      ]
     },
     "metadata": {
      "needs_background": "light"
     },
     "output_type": "display_data"
    }
   ],
   "source": [
    "# Counting the number of meaning tweet (1 is real disaster, 0 is no disaster)\n",
    "target_count = train_data.groupby('target').size().reset_index(name='counts')\n",
    "plt.bar(target_count.target, target_count.counts)\n",
    "plt.xticks([0,1], labels=[\"Not disaster tweets\", \"disaster tweets\"])\n",
    "plt.title(\"Target Distribution\")\n",
    "plt.show()"
   ]
  },
  {
   "cell_type": "markdown",
   "metadata": {},
   "source": [
    "### Number of characters in tweets"
   ]
  },
  {
   "cell_type": "code",
   "execution_count": 42,
   "metadata": {},
   "outputs": [
    {
     "data": {
      "image/png": "[encoded data removed]",
      "text/plain": [
       "<Figure size 1800x720 with 2 Axes>"
      ]
     },
     "metadata": {
      "needs_background": "light"
     },
     "output_type": "display_data"
    }
   ],
   "source": [
    "# Define the default histogram chart\n",
    "fig, (ax1, ax2) = plt.subplots(1, 2, figsize=(25,10))\n",
    "fig.suptitle(\"Characters in Tweets\", color=\"Blue\", size=30)\n",
    "# Disaster Chart\n",
    "disaster_len = train_data[train_data.target==1].text.str.len()\n",
    "ax1.hist(disaster_len, color='red')\n",
    "ax1.set_title(\"Disaster Tweets\")\n",
    "ax1.set_xlabel(\"Tweet Character Length\")\n",
    "ax1.set_ylabel(\"Quantity\")\n",
    "# No Disaster Chart\n",
    "nodisaster_len = train_data[train_data.target==0].text.str.len()\n",
    "ax2.hist(nodisaster_len, color='blue')\n",
    "ax2.set_title(\"No Disaster Tweets\")\n",
    "ax2.set_xlabel(\"Tweet Character Length\")\n",
    "ax2.set_ylabel(\"Quantity\")\n",
    "# Display charts\n",
    "plt.show()"
   ]
  },
  {
   "cell_type": "markdown",
   "metadata": {},
   "source": [
    "### Number of Words in a tweet"
   ]
  },
  {
   "cell_type": "code",
   "execution_count": 43,
   "metadata": {},
   "outputs": [
    {
     "data": {
      "image/png": "[encoded data removed]",
      "text/plain": [
       "<Figure size 1800x720 with 2 Axes>"
      ]
     },
     "metadata": {
      "needs_background": "light"
     },
     "output_type": "display_data"
    }
   ],
   "source": [
    "# Define the defaults histogram\n",
    "fig, (ax1,ax2) = plt.subplots(1,2, figsize=(25,10))\n",
    "fig.suptitle(\"Words in Tweet\", size=30, color=\"Blue\")\n",
    "# Disaster chart\n",
    "DisasterWord_len=train_data[train_data.target==1].text.str.split().map(lambda x: len(x))\n",
    "ax1.hist(DisasterWord_len, color='Blue')\n",
    "ax1.set_title(\"Disaster Tweets\")\n",
    "ax1.set_xlabel(\"Tweet Word Length\")\n",
    "ax1.set_ylabel(\"Quantity\")\n",
    "# No Disaster chart\n",
    "NoDisasterWord_len = train_data[train_data.target==0].text.str.split().map(lambda x: len(x))\n",
    "ax2.hist(NoDisasterWord_len, color='Cyan')\n",
    "ax2.set_title(\"No Disaster Tweets\")\n",
    "ax2.set_xlabel(\"Tweet Word Length\")\n",
    "ax2.set_ylabel(\"Quantity\")\n",
    "# Display Histogram\n",
    "plt.show()"
   ]
  },
  {
   "cell_type": "markdown",
   "metadata": {},
   "source": [
    "### Average Word Length in a Tweet"
   ]
  },
  {
   "cell_type": "code",
   "execution_count": 44,
   "metadata": {},
   "outputs": [
    {
     "data": {
      "image/png": "[encoded data removed]",
      "text/plain": [
       "<Figure size 1800x720 with 2 Axes>"
      ]
     },
     "metadata": {
      "needs_background": "light"
     },
     "output_type": "display_data"
    }
   ],
   "source": [
    "# Define the default plots\n",
    "fig, (ax1, ax2) = plt.subplots(1,2,figsize=(25,10))\n",
    "fig.suptitle(\"Average Word Length in a Tweet\", color=\"blue\", size=30)\n",
    "# Disaster Plot\n",
    "DisasterAvgWord_len = train_data[train_data.target==1].text.str.split().apply(lambda x: [len(i) for i in x])\n",
    "sns.distplot(DisasterAvgWord_len.map(lambda x: np.mean(x)), ax=ax1, color='red')\n",
    "ax1.set_title(\"Disaster Tweets\")\n",
    "# Distribution Plots\n",
    "NoDisasterAvgWord_len= train_data[train_data.target==0].text.str.split().apply(lambda x: [len(i) for i in x])\n",
    "sns.distplot(NoDisasterAvgWord_len.map(lambda x: np.mean(x)), ax=ax2, color=\"green\")\n",
    "ax2.set_title(\"No Disaster Tweets\")\n",
    "# Display Plots\n",
    "plt.show()"
   ]
  },
  {
   "cell_type": "code",
   "execution_count": 45,
   "metadata": {},
   "outputs": [
    {
     "data": {
      "text/plain": [
       "221"
      ]
     },
     "execution_count": 45,
     "metadata": {},
     "output_type": "execute_result"
    }
   ],
   "source": [
    "train_data[\"keyword\"].nunique()"
   ]
  },
  {
   "cell_type": "markdown",
   "metadata": {},
   "source": [
    "### Top 20 Most used Keywords"
   ]
  },
  {
   "cell_type": "code",
   "execution_count": 46,
   "metadata": {},
   "outputs": [
    {
     "data": {
      "text/plain": [
       "Text(0.5, 0, 'Count of Keywords')"
      ]
     },
     "execution_count": 46,
     "metadata": {},
     "output_type": "execute_result"
    },
    {
     "data": {
      "image/png": "[encoded data removed]",
      "text/plain": [
       "<Figure size 432x288 with 1 Axes>"
      ]
     },
     "metadata": {
      "needs_background": "light"
     },
     "output_type": "display_data"
    }
   ],
   "source": [
    "chains=train_data['keyword'].value_counts()[:20]\n",
    "sns.barplot(x=chains,y=chains.index,palette='deep')\n",
    "plt.title(\"Top 20 Keywords\")\n",
    "plt.xlabel(\"Count of Keywords\")"
   ]
  },
  {
   "cell_type": "markdown",
   "metadata": {
    "papermill": {
     "duration": 0.01946,
     "end_time": "2021-10-04T09:32:38.184254",
     "exception": false,
     "start_time": "2021-10-04T09:32:38.164794",
     "status": "completed"
    },
    "tags": []
   },
   "source": [
    "# Data Cleaning and Preprocessing"
   ]
  },
  {
   "cell_type": "code",
   "execution_count": 47,
   "metadata": {
    "execution": {
     "iopub.execute_input": "2021-10-04T09:32:38.233297Z",
     "iopub.status.busy": "2021-10-04T09:32:38.232617Z",
     "iopub.status.idle": "2021-10-04T09:32:38.235931Z",
     "shell.execute_reply": "2021-10-04T09:32:38.235289Z",
     "shell.execute_reply.started": "2021-10-04T09:29:43.074744Z"
    },
    "papermill": {
     "duration": 0.030307,
     "end_time": "2021-10-04T09:32:38.236073",
     "exception": false,
     "start_time": "2021-10-04T09:32:38.205766",
     "status": "completed"
    },
    "tags": []
   },
   "outputs": [],
   "source": [
    "def preprocess(reviews):\n",
    "    tokenizer = RegexpTokenizer(r'\\w+')\n",
    "    review = str(reviews)\n",
    "    review = review.lower()\n",
    "    review = review.replace(\"<br /><br />\", \"\")\n",
    "    tokens = tokenizer.tokenize(review)\n",
    "\n",
    "    stop_words = set(stopwords.words('english'))\n",
    "    stopwords_removed = [i for i in tokens if i not in stop_words]\n",
    "\n",
    "    ps = PorterStemmer()\n",
    "    stem_text = [ps.stem(i) for i in stopwords_removed]\n",
    "\n",
    "    cleaned_reviews = \" \".join(stem_text)\n",
    "\n",
    "    return cleaned_reviews"
   ]
  },
  {
   "cell_type": "code",
   "execution_count": 48,
   "metadata": {
    "execution": {
     "iopub.execute_input": "2021-10-04T09:32:38.284269Z",
     "iopub.status.busy": "2021-10-04T09:32:38.283538Z",
     "iopub.status.idle": "2021-10-04T09:32:42.100922Z",
     "shell.execute_reply": "2021-10-04T09:32:42.101469Z",
     "shell.execute_reply.started": "2021-10-04T09:29:43.086538Z"
    },
    "papermill": {
     "duration": 3.844645,
     "end_time": "2021-10-04T09:32:42.101660",
     "exception": false,
     "start_time": "2021-10-04T09:32:38.257015",
     "status": "completed"
    },
    "tags": []
   },
   "outputs": [],
   "source": [
    "# CLeaning our training Data\n",
    "X = train_data.text.apply(preprocess)\n",
    "y = train_data.target"
   ]
  },
  {
   "cell_type": "markdown",
   "metadata": {
    "papermill": {
     "duration": 0.020084,
     "end_time": "2021-10-04T09:32:42.142467",
     "exception": false,
     "start_time": "2021-10-04T09:32:42.122383",
     "status": "completed"
    },
    "tags": []
   },
   "source": [
    "# Splitting the Data into Train and Test"
   ]
  },
  {
   "cell_type": "code",
   "execution_count": 49,
   "metadata": {
    "execution": {
     "iopub.execute_input": "2021-10-04T09:32:42.190738Z",
     "iopub.status.busy": "2021-10-04T09:32:42.190111Z",
     "iopub.status.idle": "2021-10-04T09:32:42.198417Z",
     "shell.execute_reply": "2021-10-04T09:32:42.199124Z",
     "shell.execute_reply.started": "2021-10-04T09:29:47.031171Z"
    },
    "papermill": {
     "duration": 0.03576,
     "end_time": "2021-10-04T09:32:42.199353",
     "exception": false,
     "start_time": "2021-10-04T09:32:42.163593",
     "status": "completed"
    },
    "tags": []
   },
   "outputs": [
    {
     "name": "stdout",
     "output_type": "stream",
     "text": [
      "(4064,) (4064,)\n",
      "(1016,) (1016,)\n"
     ]
    }
   ],
   "source": [
    "X_train, X_test, y_train, y_test = train_test_split(np.array(X), y, test_size=0.20, random_state=10)\n",
    "print(X_train.shape, y_train.shape)\n",
    "print(X_test.shape, y_test.shape)"
   ]
  },
  {
   "cell_type": "markdown",
   "metadata": {
    "papermill": {
     "duration": 0.020443,
     "end_time": "2021-10-04T09:32:42.240606",
     "exception": false,
     "start_time": "2021-10-04T09:32:42.220163",
     "status": "completed"
    },
    "tags": []
   },
   "source": [
    "# Creating Model Pipeline"
   ]
  },
  {
   "cell_type": "code",
   "execution_count": 50,
   "metadata": {
    "execution": {
     "iopub.execute_input": "2021-10-04T09:32:42.289726Z",
     "iopub.status.busy": "2021-10-04T09:32:42.289061Z",
     "iopub.status.idle": "2021-10-04T09:32:42.291934Z",
     "shell.execute_reply": "2021-10-04T09:32:42.292418Z",
     "shell.execute_reply.started": "2021-10-04T09:29:47.044838Z"
    },
    "papermill": {
     "duration": 0.03143,
     "end_time": "2021-10-04T09:32:42.292604",
     "exception": false,
     "start_time": "2021-10-04T09:32:42.261174",
     "status": "completed"
    },
    "tags": []
   },
   "outputs": [],
   "source": [
    "model1 = Pipeline([\n",
    "    ('tfidf', TfidfVectorizer()), \n",
    "    ('mnb', MultinomialNB())\n",
    "])\n",
    "model2 = Pipeline([\n",
    "    ('c_vec', CountVectorizer()), \n",
    "    ('mnb', MultinomialNB())\n",
    "])\n",
    "model3 = Pipeline([\n",
    "    ('tfidf', TfidfVectorizer()),\n",
    "    ('bern', BernoulliNB())\n",
    "])\n",
    "model4 = Pipeline([\n",
    "    ('c_vec', CountVectorizer()),\n",
    "    ('bern', BernoulliNB())\n",
    "])"
   ]
  },
  {
   "cell_type": "code",
   "execution_count": 51,
   "metadata": {
    "execution": {
     "iopub.execute_input": "2021-10-04T09:32:42.412634Z",
     "iopub.status.busy": "2021-10-04T09:32:42.376535Z",
     "iopub.status.idle": "2021-10-04T09:32:42.999055Z",
     "shell.execute_reply": "2021-10-04T09:32:42.998240Z",
     "shell.execute_reply.started": "2021-10-04T09:29:47.055646Z"
    },
    "papermill": {
     "duration": 0.685969,
     "end_time": "2021-10-04T09:32:42.999233",
     "exception": false,
     "start_time": "2021-10-04T09:32:42.313264",
     "status": "completed"
    },
    "tags": []
   },
   "outputs": [
    {
     "data": {
      "text/plain": [
       "Pipeline(steps=[('c_vec', CountVectorizer()), ('bern', BernoulliNB())])"
      ]
     },
     "execution_count": 51,
     "metadata": {},
     "output_type": "execute_result"
    }
   ],
   "source": [
    "# Fitting and training the model now\n",
    "model1.fit(X_train,y_train)\n",
    "model2.fit(X_train,y_train)\n",
    "model3.fit(X_train,y_train)\n",
    "model4.fit(X_train,y_train)"
   ]
  },
  {
   "cell_type": "code",
   "execution_count": 52,
   "metadata": {
    "execution": {
     "iopub.execute_input": "2021-10-04T09:32:43.052201Z",
     "iopub.status.busy": "2021-10-04T09:32:43.051496Z",
     "iopub.status.idle": "2021-10-04T09:32:43.645491Z",
     "shell.execute_reply": "2021-10-04T09:32:43.646073Z",
     "shell.execute_reply.started": "2021-10-04T09:29:47.794719Z"
    },
    "papermill": {
     "duration": 0.625744,
     "end_time": "2021-10-04T09:32:43.646275",
     "exception": false,
     "start_time": "2021-10-04T09:32:43.020531",
     "status": "completed"
    },
    "tags": []
   },
   "outputs": [
    {
     "name": "stdout",
     "output_type": "stream",
     "text": [
      "Model 1 Train score 0.9121555118110236\n",
      "Model 1 Test score 0.7933070866141733\n",
      "\n",
      "Model 2 Train score 0.9296259842519685\n",
      "Model 2 Test score 0.7893700787401575\n",
      "\n",
      "Model 3 Train score 0.9092027559055118\n",
      "Model 3 Test score 0.7834645669291339\n",
      "\n",
      "Model 4 Train score 0.9092027559055118\n",
      "Model 4 Test score 0.7834645669291339\n"
     ]
    }
   ],
   "source": [
    "print('Model 1 Train score', model1.score(X_train,y_train))\n",
    "print('Model 1 Test score', model1.score(X_test,y_test))\n",
    "print()\n",
    "print('Model 2 Train score', model2.score(X_train,y_train))\n",
    "print('Model 2 Test score', model2.score(X_test,y_test))\n",
    "print()\n",
    "print('Model 3 Train score', model3.score(X_train,y_train))\n",
    "print('Model 3 Test score', model3.score(X_test,y_test))\n",
    "print()\n",
    "print('Model 4 Train score', model4.score(X_train,y_train))\n",
    "print('Model 4 Test score', model4.score(X_test,y_test))"
   ]
  },
  {
   "cell_type": "markdown",
   "metadata": {
    "papermill": {
     "duration": 0.02072,
     "end_time": "2021-10-04T09:32:43.688687",
     "exception": false,
     "start_time": "2021-10-04T09:32:43.667967",
     "status": "completed"
    },
    "tags": []
   },
   "source": [
    "# Visualizing the accuracy from the models"
   ]
  },
  {
   "cell_type": "code",
   "execution_count": 53,
   "metadata": {
    "execution": {
     "iopub.execute_input": "2021-10-04T09:32:43.734949Z",
     "iopub.status.busy": "2021-10-04T09:32:43.734320Z",
     "iopub.status.idle": "2021-10-04T09:32:44.070840Z",
     "shell.execute_reply": "2021-10-04T09:32:44.071407Z",
     "shell.execute_reply.started": "2021-10-04T09:29:48.464459Z"
    },
    "papermill": {
     "duration": 0.361788,
     "end_time": "2021-10-04T09:32:44.071606",
     "exception": false,
     "start_time": "2021-10-04T09:32:43.709818",
     "status": "completed"
    },
    "tags": []
   },
   "outputs": [
    {
     "data": {
      "image/png": "[encoded data removed]",
      "text/plain": [
       "<Figure size 1080x360 with 1 Axes>"
      ]
     },
     "metadata": {
      "needs_background": "light"
     },
     "output_type": "display_data"
    }
   ],
   "source": [
    "models = {'Model 1': model1.score(X_test,y_test),\n",
    "          'Model 2': model2.score(X_test,y_test),\n",
    "          'Model 3': model3.score(X_test,y_test),\n",
    "          'Model 4': model4.score(X_test,y_test)\n",
    "         }\n",
    "keys = [i for i in models.keys()]\n",
    "#print(keys)\n",
    "values = [i*100 for i in models.values()]\n",
    "#print(values)\n",
    "plt.figure(figsize=(15,5))\n",
    "plt.barh(keys, values)\n",
    "  \n",
    "for index, value in enumerate(values):\n",
    "    plt.text(value, index,\n",
    "             str(\"%.2f\"%value))\n",
    "plt.title(\"Model Accuracy\")\n",
    "plt.show()"
   ]
  },
  {
   "cell_type": "markdown",
   "metadata": {
    "execution": {
     "iopub.execute_input": "2021-10-04T09:03:22.125053Z",
     "iopub.status.busy": "2021-10-04T09:03:22.124782Z",
     "iopub.status.idle": "2021-10-04T09:03:22.130098Z",
     "shell.execute_reply": "2021-10-04T09:03:22.129121Z",
     "shell.execute_reply.started": "2021-10-04T09:03:22.125024Z"
    },
    "papermill": {
     "duration": 0.02257,
     "end_time": "2021-10-04T09:32:44.117590",
     "exception": false,
     "start_time": "2021-10-04T09:32:44.095020",
     "status": "completed"
    },
    "tags": []
   },
   "source": [
    "### We can conclude that Model 1 gives the best accuracy of 79.33%"
   ]
  },
  {
   "cell_type": "markdown",
   "metadata": {},
   "source": [
    "# Predicting on Test data using Model 1"
   ]
  },
  {
   "cell_type": "code",
   "execution_count": 54,
   "metadata": {},
   "outputs": [],
   "source": [
    "test_data = pd.read_csv(r\"C:\\Users\\Merlin\\Downloads\\test.csv\")"
   ]
  },
  {
   "cell_type": "code",
   "execution_count": 55,
   "metadata": {},
   "outputs": [
    {
     "data": {
      "text/html": [
       "<div>\n",
       "<style scoped>\n",
       "    .dataframe tbody tr th:only-of-type {\n",
       "        vertical-align: middle;\n",
       "    }\n",
       "\n",
       "    .dataframe tbody tr th {\n",
       "        vertical-align: top;\n",
       "    }\n",
       "\n",
       "    .dataframe thead th {\n",
       "        text-align: right;\n",
       "    }\n",
       "</style>\n",
       "<table border=\"1\" class=\"dataframe\">\n",
       "  <thead>\n",
       "    <tr style=\"text-align: right;\">\n",
       "      <th></th>\n",
       "      <th>id</th>\n",
       "      <th>keyword</th>\n",
       "      <th>location</th>\n",
       "      <th>text</th>\n",
       "    </tr>\n",
       "  </thead>\n",
       "  <tbody>\n",
       "    <tr>\n",
       "      <th>0</th>\n",
       "      <td>0</td>\n",
       "      <td>NaN</td>\n",
       "      <td>NaN</td>\n",
       "      <td>Just happened a terrible car crash</td>\n",
       "    </tr>\n",
       "    <tr>\n",
       "      <th>1</th>\n",
       "      <td>2</td>\n",
       "      <td>NaN</td>\n",
       "      <td>NaN</td>\n",
       "      <td>Heard about #earthquake is different cities, s...</td>\n",
       "    </tr>\n",
       "    <tr>\n",
       "      <th>2</th>\n",
       "      <td>3</td>\n",
       "      <td>NaN</td>\n",
       "      <td>NaN</td>\n",
       "      <td>there is a forest fire at spot pond, geese are...</td>\n",
       "    </tr>\n",
       "    <tr>\n",
       "      <th>3</th>\n",
       "      <td>9</td>\n",
       "      <td>NaN</td>\n",
       "      <td>NaN</td>\n",
       "      <td>Apocalypse lighting. #Spokane #wildfires</td>\n",
       "    </tr>\n",
       "    <tr>\n",
       "      <th>4</th>\n",
       "      <td>11</td>\n",
       "      <td>NaN</td>\n",
       "      <td>NaN</td>\n",
       "      <td>Typhoon Soudelor kills 28 in China and Taiwan</td>\n",
       "    </tr>\n",
       "  </tbody>\n",
       "</table>\n",
       "</div>"
      ],
      "text/plain": [
       "   id keyword location                                               text\n",
       "0   0     NaN      NaN                 Just happened a terrible car crash\n",
       "1   2     NaN      NaN  Heard about #earthquake is different cities, s...\n",
       "2   3     NaN      NaN  there is a forest fire at spot pond, geese are...\n",
       "3   9     NaN      NaN           Apocalypse lighting. #Spokane #wildfires\n",
       "4  11     NaN      NaN      Typhoon Soudelor kills 28 in China and Taiwan"
      ]
     },
     "execution_count": 55,
     "metadata": {},
     "output_type": "execute_result"
    }
   ],
   "source": [
    "test_data.head()"
   ]
  },
  {
   "cell_type": "code",
   "execution_count": 56,
   "metadata": {},
   "outputs": [],
   "source": [
    "test_data=test_data.dropna()"
   ]
  },
  {
   "cell_type": "code",
   "execution_count": 57,
   "metadata": {},
   "outputs": [],
   "source": [
    "# Cleaning the test data\n",
    "test_set = test_data.text.apply(preprocess)"
   ]
  },
  {
   "cell_type": "code",
   "execution_count": 58,
   "metadata": {},
   "outputs": [],
   "source": [
    "pred = model1.predict(test_set)"
   ]
  },
  {
   "cell_type": "code",
   "execution_count": 59,
   "metadata": {},
   "outputs": [],
   "source": [
    "# Creating a new DataFrame of prediction\n",
    "pred_df = pd.DataFrame(list(zip(test_data.iloc[:,0],pred)), columns=['id', 'target'])"
   ]
  },
  {
   "cell_type": "code",
   "execution_count": 60,
   "metadata": {},
   "outputs": [],
   "source": [
    "pred_df.to_csv('pred.csv', index=False)"
   ]
  }
 ],
 "metadata": {
  "kernelspec": {
   "display_name": "Python 3",
   "language": "python",
   "name": "python3"
  },
  "language_info": {
   "codemirror_mode": {
    "name": "ipython",
    "version": 3
   },
   "file_extension": ".py",
   "mimetype": "text/x-python",
   "name": "python",
   "nbconvert_exporter": "python",
   "pygments_lexer": "ipython3",
   "version": "3.8.3"
  },
  "papermill": {
   "default_parameters": {},
   "duration": 19.597434,
   "end_time": "2021-10-04T09:32:47.112439",
   "environment_variables": {},
   "exception": null,
   "input_path": "__notebook__.ipynb",
   "output_path": "__notebook__.ipynb",
   "parameters": {},
   "start_time": "2021-10-04T09:32:27.515005",
   "version": "2.3.3"
  }
 },
 "nbformat": 4,
 "nbformat_minor": 5
}
